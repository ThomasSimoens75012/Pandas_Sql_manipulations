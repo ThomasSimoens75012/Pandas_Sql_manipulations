{
 "cells": [
  {
   "cell_type": "code",
   "execution_count": 1,
   "id": "bd84dc1b",
   "metadata": {},
   "outputs": [],
   "source": [
    "import regex as re\n",
    "import unidecode\n",
    "import numpy as np\n",
    "import pandas as pd"
   ]
  },
  {
   "cell_type": "code",
   "execution_count": 2,
   "id": "ad5efb83",
   "metadata": {},
   "outputs": [],
   "source": [
    "def field_name_to_db_format(column_name):\n",
    "    \"\"\"\n",
    "    transforms the string passed into a sequence of alphanumeric characters in lower case\n",
    "    any non alphanumeric characters will be deleted, the alphanumeric numeric characters will then\n",
    "    be joined with underscores\n",
    "\n",
    "        Parameters:\n",
    "            :param column_name: The string to format -> str\n",
    "\n",
    "        Returns:\n",
    "            if input: '//:ZErt88//:fdgg__Xkf'\n",
    "            output: 'zert88_fdgg_xkf'\n",
    "    \"\"\"\n",
    "    pattern = '[_\\W]'\n",
    "    l = re.split(pattern, unidecode.unidecode(column_name.lower()))\n",
    "    string_to_return_list = []\n",
    "    for element in l:\n",
    "        if element != '':\n",
    "            string_to_return_list.append(element)\n",
    "    string_to_return = '_'.join(string_to_return_list)\n",
    "    return string_to_return"
   ]
  },
  {
   "cell_type": "code",
   "execution_count": 3,
   "id": "5f622f81",
   "metadata": {},
   "outputs": [],
   "source": [
    "def format_df_companies(raw_df):\n",
    "    raw_df = raw_df.fillna(method='ffill', axis=1) \n",
    "    raw_df.columns = raw_df.iloc[0]\n",
    "    raw_df = raw_df.drop(0)\n",
    "    raw_df.columns = [field_name_to_db_format(col) for col in list(raw_df)]\n",
    "    return raw_df"
   ]
  },
  {
   "cell_type": "code",
   "execution_count": 4,
   "id": "5f53990e",
   "metadata": {},
   "outputs": [],
   "source": [
    "def format_df_pass(raw_df):\n",
    "    raw_df.columns = ['code', 'gym_id', 'date', 'user_id', 'companyid', 'total_par_pass']\n",
    "    raw_df = raw_df.astype({'code': 'int', 'gym_id': 'string', 'user_id': 'string', 'companyid': 'string', 'total_par_pass': 'float'})\n",
    "    raw_df['date'] = pd.to_datetime(raw_df['date'])\n",
    "    return raw_df"
   ]
  },
  {
   "cell_type": "code",
   "execution_count": 5,
   "id": "4f742dc4",
   "metadata": {},
   "outputs": [],
   "source": [
    "def format_df_users(raw_df):\n",
    "    raw_df = raw_df.replace('N\\\\A', 0).replace(np.nan, 0)\n",
    "    raw_df = raw_df.replace('Utilisateur anonyme', 0).replace('7501i', 75011)\n",
    "    raw_df.columns = [field_name_to_db_format(col) for col in list(raw_df)]\n",
    "    raw_df = raw_df.astype({'id': 'string', 'companyid': 'string','zipcode': 'int', 'country': 'string', 'age' : 'int', 'statut_user': 'string'})\n",
    "    return raw_df"
   ]
  },
  {
   "cell_type": "code",
   "execution_count": null,
   "id": "54a6742e",
   "metadata": {},
   "outputs": [],
   "source": [
    "def create_df_companies_date(df_companies, date): \n",
    "    df_companies_date = df_companies[date]\n",
    "    df_companies_date.columns = df_companies_date.iloc[0]\n",
    "    df_companies_date = df_companies_date.drop([1])\n",
    "    \n",
    "    companyid = df_companies['companyid'].dropna()\n",
    "    df_companies_date.insert(0, 'companyid', companyid)\n",
    "    df_companies_date['date'] = date\n",
    "    df_companies_date.columns = [field_name_to_db_format(col) for col in list(df_companies_date)]\n",
    "    return df_companies_date"
   ]
  }
 ],
 "metadata": {
  "kernelspec": {
   "display_name": "Python 3 (ipykernel)",
   "language": "python",
   "name": "python3"
  },
  "language_info": {
   "codemirror_mode": {
    "name": "ipython",
    "version": 3
   },
   "file_extension": ".py",
   "mimetype": "text/x-python",
   "name": "python",
   "nbconvert_exporter": "python",
   "pygments_lexer": "ipython3",
   "version": "3.8.12"
  }
 },
 "nbformat": 4,
 "nbformat_minor": 5
}
