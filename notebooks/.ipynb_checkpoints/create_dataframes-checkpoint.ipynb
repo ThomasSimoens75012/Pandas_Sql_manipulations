{
 "cells": [
  {
   "cell_type": "code",
   "execution_count": 1,
   "id": "23cf271e",
   "metadata": {},
   "outputs": [],
   "source": [
    "import pandas as pd\n",
    "import ipynb.fs.full.format_datas as fd\n",
    "import numpy as np"
   ]
  },
  {
   "cell_type": "code",
   "execution_count": 2,
   "id": "4f50f936",
   "metadata": {},
   "outputs": [],
   "source": [
    "df_companies = pd.read_excel(r'datas/Gymlib_data_entretien.xlsx', sheet_name='Companies', header=None)\n",
    "df_pass = pd.read_excel(r'datas/Gymlib_data_entretien.xlsx', sheet_name='Pass')\n",
    "df_users = pd.read_excel(r'datas/Gymlib_data_entretien.xlsx', sheet_name='Utilisateurs')"
   ]
  },
  {
   "cell_type": "code",
   "execution_count": 3,
   "id": "c397585a",
   "metadata": {},
   "outputs": [],
   "source": [
    "df_companies_formatted = fd.format_df_companies(df_companies)  "
   ]
  },
  {
   "cell_type": "code",
   "execution_count": 4,
   "id": "44b1729c",
   "metadata": {},
   "outputs": [
    {
     "name": "stdout",
     "output_type": "stream",
     "text": [
      "1   MRR entreprise  Effectif eligible\n",
      "1   MRR entreprise  Effectif eligible\n",
      "2             6395               2808\n",
      "3             5500               5500\n",
      "4          4205.11                178\n",
      "5          3651.52               4000\n",
      "6              600                293\n",
      "7              200                  8\n",
      "8           3062.5                360\n",
      "9              458                 15\n",
      "10            1552                160\n",
      "11            1000                200\n",
      "1   MRR entreprise  Effectif eligible\n",
      "1   MRR entreprise  Effectif eligible\n",
      "2             6395               2808\n",
      "3             5500               5500\n",
      "4          4205.11                178\n",
      "5          3651.52               4000\n",
      "6              600                293\n",
      "7              200                  8\n",
      "8           3062.5                360\n",
      "9              458                 15\n",
      "10            1552                160\n",
      "11            1000                200\n",
      "1   MRR entreprise  Effectif eligible\n",
      "1   MRR entreprise  Effectif eligible\n",
      "2             9000               2808\n",
      "3             7000               5500\n",
      "4          4564.07                178\n",
      "5             5360               4000\n",
      "6              600                293\n",
      "7              200                  8\n",
      "8           3062.5                360\n",
      "9              458                 15\n",
      "10            1552                160\n",
      "11            1000                200\n"
     ]
    }
   ],
   "source": [
    "df_companies_08_2019 = fd.create_df_companies_date(df_companies_formatted, '08_2019')\n",
    "df_companies_09_2019 = fd.create_df_companies_date(df_companies_formatted, '09_2019')\n",
    "df_companies_10_2019 = fd.create_df_companies_date(df_companies_formatted, '10_2019')"
   ]
  },
  {
   "cell_type": "code",
   "execution_count": 5,
   "id": "adabb08d",
   "metadata": {},
   "outputs": [],
   "source": [
    "#df_pass = df_pass.astype({'code': 'int', 'gym_id': 'string', 'date': 'date', 'user_id': 'string', 'companyid': 'string', 'total_par_pass': 'float'})\n",
    "#df_users = df_users.astype({'id': 'string', 'companyid': 'string','zipcode': 'int', 'country': 'string', 'age' : 'int', 'statut_user': 'string'})"
   ]
  },
  {
   "cell_type": "code",
   "execution_count": 6,
   "id": "814af0ee",
   "metadata": {},
   "outputs": [],
   "source": [
    "df_users = fd.format_df_users(df_users)\n",
    "df_pass = fd.format_df_pass(df_pass)"
   ]
  },
  {
   "cell_type": "code",
   "execution_count": 7,
   "id": "bfb30da2",
   "metadata": {},
   "outputs": [
    {
     "data": {
      "text/html": [
       "<div>\n",
       "<style scoped>\n",
       "    .dataframe tbody tr th:only-of-type {\n",
       "        vertical-align: middle;\n",
       "    }\n",
       "\n",
       "    .dataframe tbody tr th {\n",
       "        vertical-align: top;\n",
       "    }\n",
       "\n",
       "    .dataframe thead th {\n",
       "        text-align: right;\n",
       "    }\n",
       "</style>\n",
       "<table border=\"1\" class=\"dataframe\">\n",
       "  <thead>\n",
       "    <tr style=\"text-align: right;\">\n",
       "      <th>1</th>\n",
       "      <th>company_id</th>\n",
       "      <th>MRR entreprise</th>\n",
       "      <th>Effectif eligible</th>\n",
       "      <th>date</th>\n",
       "    </tr>\n",
       "  </thead>\n",
       "  <tbody>\n",
       "    <tr>\n",
       "      <th>2</th>\n",
       "      <td>208732121</td>\n",
       "      <td>6395</td>\n",
       "      <td>2808</td>\n",
       "      <td>08/2019</td>\n",
       "    </tr>\n",
       "    <tr>\n",
       "      <th>3</th>\n",
       "      <td>294892643</td>\n",
       "      <td>5500</td>\n",
       "      <td>5500</td>\n",
       "      <td>08/2019</td>\n",
       "    </tr>\n",
       "    <tr>\n",
       "      <th>4</th>\n",
       "      <td>323246782</td>\n",
       "      <td>4205.11</td>\n",
       "      <td>178</td>\n",
       "      <td>08/2019</td>\n",
       "    </tr>\n",
       "    <tr>\n",
       "      <th>5</th>\n",
       "      <td>380070690</td>\n",
       "      <td>3651.52</td>\n",
       "      <td>4000</td>\n",
       "      <td>08/2019</td>\n",
       "    </tr>\n",
       "    <tr>\n",
       "      <th>6</th>\n",
       "      <td>461510553</td>\n",
       "      <td>600</td>\n",
       "      <td>293</td>\n",
       "      <td>08/2019</td>\n",
       "    </tr>\n",
       "    <tr>\n",
       "      <th>7</th>\n",
       "      <td>674264823</td>\n",
       "      <td>200</td>\n",
       "      <td>8</td>\n",
       "      <td>08/2019</td>\n",
       "    </tr>\n",
       "    <tr>\n",
       "      <th>8</th>\n",
       "      <td>825995937</td>\n",
       "      <td>3062.5</td>\n",
       "      <td>360</td>\n",
       "      <td>08/2019</td>\n",
       "    </tr>\n",
       "    <tr>\n",
       "      <th>9</th>\n",
       "      <td>863285309</td>\n",
       "      <td>458</td>\n",
       "      <td>15</td>\n",
       "      <td>08/2019</td>\n",
       "    </tr>\n",
       "    <tr>\n",
       "      <th>10</th>\n",
       "      <td>881725560</td>\n",
       "      <td>1552</td>\n",
       "      <td>160</td>\n",
       "      <td>08/2019</td>\n",
       "    </tr>\n",
       "    <tr>\n",
       "      <th>11</th>\n",
       "      <td>2120362044</td>\n",
       "      <td>1000</td>\n",
       "      <td>200</td>\n",
       "      <td>08/2019</td>\n",
       "    </tr>\n",
       "  </tbody>\n",
       "</table>\n",
       "</div>"
      ],
      "text/plain": [
       "1   company_id MRR entreprise Effectif eligible     date\n",
       "2    208732121           6395              2808  08/2019\n",
       "3    294892643           5500              5500  08/2019\n",
       "4    323246782        4205.11               178  08/2019\n",
       "5    380070690        3651.52              4000  08/2019\n",
       "6    461510553            600               293  08/2019\n",
       "7    674264823            200                 8  08/2019\n",
       "8    825995937         3062.5               360  08/2019\n",
       "9    863285309            458                15  08/2019\n",
       "10   881725560           1552               160  08/2019\n",
       "11  2120362044           1000               200  08/2019"
      ]
     },
     "execution_count": 7,
     "metadata": {},
     "output_type": "execute_result"
    }
   ],
   "source": [
    "df_companies_08_2019"
   ]
  },
  {
   "cell_type": "code",
   "execution_count": null,
   "id": "c9e60063",
   "metadata": {},
   "outputs": [],
   "source": []
  }
 ],
 "metadata": {
  "kernelspec": {
   "display_name": "Python 3 (ipykernel)",
   "language": "python",
   "name": "python3"
  },
  "language_info": {
   "codemirror_mode": {
    "name": "ipython",
    "version": 3
   },
   "file_extension": ".py",
   "mimetype": "text/x-python",
   "name": "python",
   "nbconvert_exporter": "python",
   "pygments_lexer": "ipython3",
   "version": "3.8.12"
  }
 },
 "nbformat": 4,
 "nbformat_minor": 5
}
